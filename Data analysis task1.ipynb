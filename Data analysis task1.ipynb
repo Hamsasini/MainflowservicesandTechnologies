{
 "cells": [
  {
   "cell_type": "code",
   "execution_count": 7,
   "metadata": {},
   "outputs": [
    {
     "name": "stdin",
     "output_type": "stream",
     "text": [
      "Enter no of elements required in the list: 4\n",
      "Enter number: 12\n",
      "Enter number: 24\n",
      "Enter number: 44\n",
      "Enter number: 13\n"
     ]
    },
    {
     "name": "stdout",
     "output_type": "stream",
     "text": [
      "List: [12, 24, 44, 13]\n"
     ]
    }
   ],
   "source": [
    "#list operations\n",
    "#creating a list \n",
    "lst=list() #creating using list method\n",
    "lst=[]#creation of empty list\n",
    "#getting input from user\n",
    "n=int(input(\"Enter no of elements required in the list:\"))\n",
    "for i in range(0,n):\n",
    "    num=int(input(\"Enter number:\"))\n",
    "    lst.append(num)\n",
    "print(\"List:\",lst)\n",
    "    \n"
   ]
  },
  {
   "cell_type": "code",
   "execution_count": 8,
   "metadata": {},
   "outputs": [
    {
     "name": "stdout",
     "output_type": "stream",
     "text": [
      "[7, 44, 13, 24, 16, 4, 8, 28, 67]\n",
      "[7, 44, 13, 24, 16, 4, 8, 28, 67, [99, 100]]\n",
      "[7, 44, 13, 24, 16, 4, 8, 28, 67, [99, 100], 88, 54]\n",
      "[7, 44, 13, 24, 16, 4, 8, 28, 67, [99, 100], 88, 54, 21, 27, 45, 41]\n"
     ]
    }
   ],
   "source": [
    "#list operations\n",
    "lst=[7,44,13,24,16,4,8,28]\n",
    "#adding elements\n",
    "lst.append(67)#adding single element\n",
    "print(lst)\n",
    "lst.append([99,100])#appending elements\n",
    "print(lst)\n",
    "#extend method-to add multiple elements in the list\n",
    "lst.extend([88,54])\n",
    "print(lst)\n",
    "#adding two lists\n",
    "l1=[21,27,45,41]\n",
    "print(lst+l1)"
   ]
  },
  {
   "cell_type": "code",
   "execution_count": 14,
   "metadata": {},
   "outputs": [
    {
     "name": "stdout",
     "output_type": "stream",
     "text": [
      "['eng', 'maths', 'cs', 7, 44, 13, 24, 16, 4, 8]\n",
      "['eng', 'maths', 'cs', 7, 44, 13, 24, 4, 8]\n",
      "['eng', 'maths', 'cs', 7, 44, 13, 24, 4]\n",
      "[]\n"
     ]
    }
   ],
   "source": [
    "#removing elements from list\n",
    "lst=['eng','maths','cs',7,44,13,24,16,4,8,28]\n",
    "lst.pop()#removes last element\n",
    "print(lst)\n",
    "lst.pop(7)#removes element in the given position\n",
    "print(lst)\n",
    "lst.remove(8)#removes the given element from the list\n",
    "print(lst)\n",
    "l1.clear()\n",
    "print(l1)"
   ]
  },
  {
   "cell_type": "code",
   "execution_count": 16,
   "metadata": {},
   "outputs": [
    {
     "name": "stdout",
     "output_type": "stream",
     "text": [
      "['eng', 'maths', 'cs', 7, 44, 12, 24, 16, 4, 8, 28]\n",
      "['eng', 'maths', 'cs', 7, 13, 44, 12, 24, 16, 4, 8, 28]\n"
     ]
    }
   ],
   "source": [
    "#modifying elments in a list\n",
    "lst=['eng','maths','cs',7,44,13,24,16,4,8,28]\n",
    "lst[5]=12\n",
    "print(lst)\n",
    "lst.insert(4,13)#inserting elements at given position\n",
    "print(lst)\n"
   ]
  },
  {
   "cell_type": "code",
   "execution_count": 19,
   "metadata": {},
   "outputs": [
    {
     "name": "stdout",
     "output_type": "stream",
     "text": [
      "Datatype of dic is: <class 'dict'>\n",
      "Data Science\n"
     ]
    },
    {
     "name": "stdin",
     "output_type": "stream",
     "text": [
      "Enter no of elements required in the dictionary: 4\n",
      "Enter key: 1\n",
      "Enter value: maths\n",
      "Enter key: 2\n",
      "Enter value: english\n",
      "Enter key: 3\n",
      "Enter value: python\n",
      "Enter key: 4\n",
      "Enter value: physics\n"
     ]
    },
    {
     "name": "stdout",
     "output_type": "stream",
     "text": [
      "{1: 'maths', 2: 'english', 3: 'python', 4: 'physics'}\n"
     ]
    }
   ],
   "source": [
    "#Dictionary -key value pairs\n",
    "#creating dictionaries\n",
    "dict1=dict()#using dict methods\n",
    "dic={}\n",
    "print(\"Datatype of dic is:\",type(dic))\n",
    "dic={1:'Data Science',2:'AI'}\n",
    "print(dic[1])\n",
    "#user defined dictionary\n",
    "#get input from user\n",
    "n=int(input(\"Enter no of elements required in the dictionary:\"))\n",
    "for i in range(0,n):\n",
    "    key=int(input(\"Enter key:\"))\n",
    "    value=input(\"Enter value:\")\n",
    "    dict1[key]=value\n",
    "print(dict1)"
   ]
  },
  {
   "cell_type": "code",
   "execution_count": 20,
   "metadata": {},
   "outputs": [
    {
     "name": "stdout",
     "output_type": "stream",
     "text": [
      "After adding ('d', 4): {'a': 1, 'b': 2, 'c': 3, 'd': 4}\n",
      "{'a': 1, 'b': 2, 'c': 3, 'd': 4, 'e': 5}\n",
      "After removing key 'b': {'a': 1, 'c': 3, 'd': 4, 'e': 5}\n",
      "After modifying value of 'a' to 10: {'a': 10, 'c': 3, 'd': 4, 'e': 5}\n",
      "dict_keys(['a', 'c', 'd', 'e'])\n",
      "dict_values([10, 3, 4, 5])\n",
      "5\n",
      "('d', 4)\n",
      "None\n"
     ]
    }
   ],
   "source": [
    "# Adding a key-value pair\n",
    "my_dict = {'a': 1, 'b': 2, 'c': 3}\n",
    "my_dict['d'] = 4\n",
    "print(\"After adding ('d', 4):\", my_dict)\n",
    "dic2={'e':5}\n",
    "my_dict.update(dic2)\n",
    "print(my_dict)\n",
    "\n",
    "# Removing a key-value pair\n",
    "del my_dict['b']\n",
    "print(\"After removing key 'b':\", my_dict)\n",
    "\n",
    "# Modifying a value\n",
    "my_dict['a'] = 10\n",
    "print(\"After modifying value of 'a' to 10:\", my_dict)\n",
    "\n",
    "print(my_dict.keys())\n",
    "print(my_dict.values())\n",
    "print(my_dict.pop('e'))\n",
    "print(my_dict.popitem())\n",
    "print(my_dict.clear())\n"
   ]
  },
  {
   "cell_type": "code",
   "execution_count": 25,
   "metadata": {},
   "outputs": [
    {
     "name": "stdout",
     "output_type": "stream",
     "text": [
      "After adding 6: {1, 2, 3, 4, 5, 6}\n",
      "After adding 6: {1, 2, 3, 4, 5, 6, 7}\n",
      "After removing 3: {1, 2, 4, 5, 6, 7}\n",
      "Set after updating: {'s', 'g', 'k', 'f', 'r', 'a', 'e'}\n",
      "\n",
      "Set after updating: {'s', 'k', 'f', 'r', 'a', 'e'}\n",
      "\n",
      "Set after updating: {'s', 'k', 'f', 'r', 'a'}\n",
      "\n",
      "Popped element s\n",
      "Set after updating: {'k', 'f', 'r', 'a'}\n",
      "\n",
      "Set after updating: set()\n"
     ]
    }
   ],
   "source": [
    "#creating set\n",
    "set1={1,2,3,4,5,6}\n",
    "# Adding an element\n",
    "set1.add(6)\n",
    "print(\"After adding 6:\", set1)\n",
    "set1.add(7)\n",
    "print(\"After adding 6:\", set1)\n",
    "# Removing an element\n",
    "set1.discard(3)\n",
    "print(\"After removing 3:\", set1)\n",
    "\n",
    "# set of letters\n",
    "s = {'g', 'e', 'k','r','a' ,'s'}\n",
    "\n",
    "# adding 's'\n",
    "s.add('f')\n",
    "print('Set after updating:', s)\n",
    "\n",
    "# Discarding element from the set\n",
    "s.discard('g')\n",
    "print('\\nSet after updating:', s)\n",
    "\n",
    "# Removing element from the set\n",
    "s.remove('e')\n",
    "print('\\nSet after updating:', s)\n",
    "\n",
    "# Popping elements from the set\n",
    "print('\\nPopped element', s.pop())\n",
    "print('Set after updating:', s)\n",
    "\n",
    "s.clear()\n",
    "print('\\nSet after updating:', s)\n"
   ]
  },
  {
   "cell_type": "code",
   "execution_count": null,
   "metadata": {},
   "outputs": [],
   "source": []
  }
 ],
 "metadata": {
  "kernelspec": {
   "display_name": "Python 3 (ipykernel)",
   "language": "python",
   "name": "python3"
  },
  "language_info": {
   "codemirror_mode": {
    "name": "ipython",
    "version": 3
   },
   "file_extension": ".py",
   "mimetype": "text/x-python",
   "name": "python",
   "nbconvert_exporter": "python",
   "pygments_lexer": "ipython3",
   "version": "3.11.0"
  }
 },
 "nbformat": 4,
 "nbformat_minor": 4
}
